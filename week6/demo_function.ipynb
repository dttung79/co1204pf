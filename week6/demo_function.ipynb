{
 "cells": [
  {
   "cell_type": "markdown",
   "metadata": {},
   "source": [
    "In Python, a function is a block of code that performs a specific task. It takes input, performs some computation on the input, and produces output. Functions help break our program into smaller and modular chunks. As our program grows larger and more complex, functions make it more organized and manageable.\n",
    "The general syntax of a function in Python is as follows:\n",
    "\n",
    "```python\n",
    "def function_name(parameters):\n",
    "    statement(s)\n",
    "    return expression\n",
    "```\n",
    "\n",
    "- `def` is a keyword that starts the function definition.\n",
    "- `function_name` is a unique identifier to represent the function.\n",
    "- `parameters` (optional) are inputs to the function. These are optional.\n",
    "- `statement(s)` is the block of code to be executed when the function is called.\n",
    "- `return` statement (optional) is used to exit a function and return a value. If no return statement is provided, the function will return `None`."
   ]
  },
  {
   "cell_type": "code",
   "execution_count": 1,
   "metadata": {},
   "outputs": [
    {
     "name": "stdout",
     "output_type": "stream",
     "text": [
      "Hi, how are you?\n",
      "Hi, how are you?\n"
     ]
    }
   ],
   "source": [
    "# Example of a simple function without arguments and without return value\n",
    "def hi():\n",
    "    print('Hi, how are you?')\n",
    "\n",
    "hi()\n",
    "hi()"
   ]
  },
  {
   "cell_type": "code",
   "execution_count": 4,
   "metadata": {},
   "outputs": [
    {
     "name": "stdout",
     "output_type": "stream",
     "text": [
      "Hello John, how are you?\n",
      "Hello Mary, how are you?\n",
      "Hello 10, how are you?\n"
     ]
    }
   ],
   "source": [
    "# Example of a simple function with arguments and no return value\n",
    "def hello(name):\n",
    "    print(f'Hello {name}, how are you?')\n",
    "\n",
    "hello('John')\n",
    "hello('Mary')\n",
    "hello(10)"
   ]
  },
  {
   "cell_type": "code",
   "execution_count": null,
   "metadata": {},
   "outputs": [],
   "source": [
    "# Example: A function that prints a line of character\n",
    "def print_line(n, c):\n",
    "    for _ in range(n):\n",
    "        print(c, end=' ')\n",
    "\n",
    "# print 5 asterisks\n",
    "print_line(5, '*')\n",
    "print()\n",
    "# print 10 question marks\n",
    "print_line(10, '?')"
   ]
  },
  {
   "cell_type": "code",
   "execution_count": null,
   "metadata": {},
   "outputs": [],
   "source": [
    "# Example: Using a function to print a triangle of any character\n",
    "n = int(input('Enter number of rows: '))\n",
    "c = input('Enter character: ')\n",
    "for i in range(n):\n",
    "    print_line(i+1, c)\n",
    "    print()"
   ]
  },
  {
   "cell_type": "code",
   "execution_count": 11,
   "metadata": {},
   "outputs": [
    {
     "name": "stdout",
     "output_type": "stream",
     "text": [
      "* * * * * \n",
      "* * * * \n",
      "* * * \n",
      "* * \n",
      "* \n"
     ]
    }
   ],
   "source": [
    "# Example: Using print_line() to print a triangle of asterisks (or any character) upside down\n",
    "for i in range(n, 0, -1):\n",
    "    print_line(i, '*')\n",
    "    print()"
   ]
  },
  {
   "cell_type": "markdown",
   "metadata": {},
   "source": [
    "The `return` statement in a Python function serves two main purposes:\n",
    "\n",
    "1. It immediately ends the function execution and optionally provides a value that can be used where the function was called.\n",
    "2. If no expression is provided with the `return` statement, or if the `return` statement itself is not present in the function, then the function will return the `None` object.\n",
    "\n",
    "Here's a simple example:\n",
    "\n",
    "```python\n",
    "def add_numbers(a, b):\n",
    "    \"\"\"This function adds two numbers and returns the result\"\"\"\n",
    "    result = a + b\n",
    "    return result\n",
    "\n",
    "# Using the function\n",
    "sum_result = add_numbers(5, 10)\n",
    "print(sum_result)  # Outputs: 15\n",
    "```\n",
    "\n",
    "In this example, the `add_numbers` function returns the sum of two numbers. The `return` statement ends the function and provides the sum which is then printed.\n"
   ]
  },
  {
   "cell_type": "code",
   "execution_count": 12,
   "metadata": {},
   "outputs": [],
   "source": [
    "# Function that returns a value\n",
    "def double(a):\n",
    "    return a * 2"
   ]
  },
  {
   "cell_type": "code",
   "execution_count": 20,
   "metadata": {},
   "outputs": [
    {
     "name": "stdout",
     "output_type": "stream",
     "text": [
      "20\n",
      "40\n",
      "30\n",
      "* * * * * * * * * * 40\n"
     ]
    }
   ],
   "source": [
    "# use double in some cases:\n",
    "# print a value returned by double\n",
    "print(double(10))\n",
    "# call double, save returned value to a\n",
    "a = double(20)\n",
    "print(a)\n",
    "# use in an expression\n",
    "a = 10\n",
    "b = 5\n",
    "c = double(a) + double(b)\n",
    "print(c)\n",
    "# use as an argument to another function\n",
    "print_line(double(5), '*')\n",
    "print(double(double(double(5))))"
   ]
  },
  {
   "cell_type": "code",
   "execution_count": 21,
   "metadata": {},
   "outputs": [
    {
     "name": "stdout",
     "output_type": "stream",
     "text": [
      "Math = 8.0, English = 7.0, Physics = 5.4\n",
      "Average grade is 6.80\n"
     ]
    }
   ],
   "source": [
    "# Example: A function to calculate average of 3 grades\n",
    "def avg_grades(math, english, physics):\n",
    "    avg = (math + english + physics) / 3\n",
    "    return avg\n",
    "\n",
    "# enter 3 grades\n",
    "math = float(input('Enter math grade: '))\n",
    "english = float(input('Enter english grade: '))\n",
    "physics = float(input('Enter physics grade: '))\n",
    "# call avg_grades() to calculate average of 3 grades and save it to avg\n",
    "avg = avg_grades(math, english, physics)\n",
    "# print avg\n",
    "print(f'Math = {math}, English = {english}, Physics = {physics}')\n",
    "print(f'Average grade is {avg:.2f}')"
   ]
  },
  {
   "cell_type": "code",
   "execution_count": 23,
   "metadata": {},
   "outputs": [
    {
     "name": "stdout",
     "output_type": "stream",
     "text": [
      "55\n",
      "Sum from 1 to 20 is 210\n"
     ]
    }
   ],
   "source": [
    "# Example: Calculate sum from 1 to n\n",
    "def my_sum(n):\n",
    "    s = 0\n",
    "    for i in range(1, n+1):\n",
    "        s += i\n",
    "    return s\n",
    "\n",
    "print(my_sum(10))\n",
    "n = int(input('Enter n: '))\n",
    "s = my_sum(n)\n",
    "print(f'Sum from 1 to {n} is {s}')"
   ]
  },
  {
   "cell_type": "code",
   "execution_count": 24,
   "metadata": {},
   "outputs": [],
   "source": [
    "# Example: print bill with tax (10%) given customer name and payment entered by user\n",
    "def print_bill(customer, payment):\n",
    "    tax = payment / 10\n",
    "    final_payment = payment + tax\n",
    "    print(f'Bill for {customer}:')\n",
    "    print(f'Payment: {payment:.2f}')\n",
    "    print(f'Tax: {tax:.2f}')\n",
    "    print(f'Final payment: {final_payment:.2f}')"
   ]
  },
  {
   "cell_type": "code",
   "execution_count": 25,
   "metadata": {},
   "outputs": [
    {
     "name": "stdout",
     "output_type": "stream",
     "text": [
      "Bill for John:\n",
      "Payment: 120.00\n",
      "Tax: 12.00\n",
      "Final payment: 132.00\n"
     ]
    }
   ],
   "source": [
    "customer = input('Enter customer name: ')\n",
    "payment = float(input('Enter payment: '))\n",
    "print_bill(customer, payment)"
   ]
  }
 ],
 "metadata": {
  "kernelspec": {
   "display_name": "Python 3",
   "language": "python",
   "name": "python3"
  },
  "language_info": {
   "codemirror_mode": {
    "name": "ipython",
    "version": 3
   },
   "file_extension": ".py",
   "mimetype": "text/x-python",
   "name": "python",
   "nbconvert_exporter": "python",
   "pygments_lexer": "ipython3",
   "version": "3.9.12"
  }
 },
 "nbformat": 4,
 "nbformat_minor": 2
}
