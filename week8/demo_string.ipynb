{
 "cells": [
  {
   "cell_type": "code",
   "execution_count": 6,
   "metadata": {},
   "outputs": [
    {
     "name": "stdout",
     "output_type": "stream",
     "text": [
      "123.456789\n",
      "|123.46|\n",
      "|              123.46|\n",
      "|123.46              |\n",
      "|       123.46       |\n"
     ]
    }
   ],
   "source": [
    "a = 123.456789\n",
    "print(a)\n",
    "print(f'|{a:.2f}|')\n",
    "print(f'|{a:20.2f}|')\n",
    "print(f'|{a:<20.2f}|')\n",
    "print(f'|{a:^20.2f}|')"
   ]
  },
  {
   "cell_type": "code",
   "execution_count": 11,
   "metadata": {},
   "outputs": [
    {
     "name": "stdout",
     "output_type": "stream",
     "text": [
      "1.2346e+02\n",
      "3.1416e+00\n",
      "4.50e-05\n"
     ]
    }
   ],
   "source": [
    "# Scientific notation e+N ~ 10^N\n",
    "print(f'{a:.4e}')\n",
    "PI = 3.141592653589793\n",
    "print(f'{PI:.4e}')\n",
    "c = 0.000045\n",
    "print(f'{c:.2e}')"
   ]
  },
  {
   "cell_type": "code",
   "execution_count": 13,
   "metadata": {},
   "outputs": [
    {
     "name": "stdout",
     "output_type": "stream",
     "text": [
      "0.55%\n",
      "10.00%\n"
     ]
    }
   ],
   "source": [
    "# Percentage \n",
    "interest = 0.0055\n",
    "print(f'{interest:.2%}')\n",
    "a = 0.1\n",
    "print(f'{a:.2%}')"
   ]
  },
  {
   "cell_type": "code",
   "execution_count": 17,
   "metadata": {},
   "outputs": [
    {
     "name": "stdout",
     "output_type": "stream",
     "text": [
      "hello world\n",
      "HELLO WORLD\n",
      "Hello world\n",
      "Hello World\n",
      "HEllo WorLD\n"
     ]
    }
   ],
   "source": [
    "s = 'heLLO wORld'\n",
    "print(s.lower())\n",
    "print(s.upper())\n",
    "print(s.capitalize())\n",
    "print(s.title())\n",
    "print(s.swapcase())"
   ]
  },
  {
   "cell_type": "code",
   "execution_count": 22,
   "metadata": {},
   "outputs": [
    {
     "name": "stdout",
     "output_type": "stream",
     "text": [
      "|     hello world     |\n",
      "|hello world     |\n",
      "|     hello world|\n",
      "|hello world|\n"
     ]
    }
   ],
   "source": [
    "s = '     hello world     '\n",
    "print(f'|{s}|')\n",
    "print(f'|{s.lstrip()}|')\n",
    "print(f'|{s.rstrip()}|')\n",
    "print(f'|{s.strip()}|')"
   ]
  },
  {
   "cell_type": "code",
   "execution_count": 25,
   "metadata": {},
   "outputs": [
    {
     "name": "stdout",
     "output_type": "stream",
     "text": [
      "|    hello world     |\n",
      "|hello world         |\n",
      "|         hello world|\n"
     ]
    }
   ],
   "source": [
    "s = 'hello world'\n",
    "print(f'|{s.center(20)}|')\n",
    "print(f'|{s.ljust(20)}|')\n",
    "print(f'|{s.rjust(20)}|')"
   ]
  },
  {
   "cell_type": "code",
   "execution_count": 28,
   "metadata": {},
   "outputs": [
    {
     "name": "stdout",
     "output_type": "stream",
     "text": [
      "hell* w*rld\n",
      "he11o wor1d\n",
      "43110 w0r1d\n"
     ]
    }
   ],
   "source": [
    "print(s.replace('o', '*'))\n",
    "print(s.replace('l', '1'))\n",
    "print(s.replace('o', '0').replace('l', '1').replace('h', '4').replace('e', '3'))"
   ]
  },
  {
   "cell_type": "code",
   "execution_count": 33,
   "metadata": {},
   "outputs": [
    {
     "name": "stdout",
     "output_type": "stream",
     "text": [
      "[44, 85, 50, 33, 71, 8, 77, 16, 12, 62]\n"
     ]
    }
   ],
   "source": [
    "import random as rd\n",
    "numbers = rd.sample(range(1, 100), 10)\n",
    "print(numbers)"
   ]
  },
  {
   "cell_type": "code",
   "execution_count": 34,
   "metadata": {},
   "outputs": [
    {
     "name": "stdout",
     "output_type": "stream",
     "text": [
      "Sum = 458\n",
      "Max = 85\n",
      "Min = 8\n",
      "Index of 33: 3\n"
     ]
    }
   ],
   "source": [
    "print(f'Sum = {sum(numbers)}')\n",
    "print(f'Max = {max(numbers)}')\n",
    "print(f'Min = {min(numbers)}')\n",
    "print(f'Index of 33: {numbers.index(33)}')"
   ]
  },
  {
   "cell_type": "code",
   "execution_count": 39,
   "metadata": {},
   "outputs": [
    {
     "name": "stdout",
     "output_type": "stream",
     "text": [
      "Tom\n",
      "Bill\n",
      "Index of David: 3\n"
     ]
    }
   ],
   "source": [
    "names = ['John', 'Mary', 'Peter', 'David', 'Bill', 'Tom', 'Bob']\n",
    "print(max(names)) # max by alphabetical order\n",
    "print(min(names))\n",
    "print(f'Index of David: {names.index(\"David\")}')"
   ]
  },
  {
   "cell_type": "code",
   "execution_count": 43,
   "metadata": {},
   "outputs": [
    {
     "name": "stdout",
     "output_type": "stream",
     "text": [
      "Hello\n",
      "World\n",
      "Python\n",
      "dlroW nohtyP olleH\n"
     ]
    }
   ],
   "source": [
    "s = 'Hello Python World'\n",
    "print(s[:5])\n",
    "print(s[-5:])\n",
    "print(s[6:12])\n",
    "print(s[::-1])"
   ]
  },
  {
   "cell_type": "code",
   "execution_count": 47,
   "metadata": {},
   "outputs": [
    {
     "name": "stdout",
     "output_type": "stream",
     "text": [
      "['John', 'Mary', 'Peter', 'David', 'Bill', 'Tom', 'Bob']\n",
      "John & Mary & Peter & David & Bill & Tom & Bob\n",
      "['John', 'Paul', 'Marry', 'David']\n"
     ]
    }
   ],
   "source": [
    "# convert list of string to string\n",
    "print(names)\n",
    "str_names = ' & '.join(names)\n",
    "print(str_names)\n",
    "# convert string to list of string\n",
    "names ='John,Paul,Marry,David'\n",
    "names = names.split(',')\n",
    "print(names)"
   ]
  },
  {
   "cell_type": "code",
   "execution_count": 50,
   "metadata": {},
   "outputs": [
    {
     "name": "stdout",
     "output_type": "stream",
     "text": [
      "George W. Bush\n",
      "J F Kennedy\n"
     ]
    }
   ],
   "source": [
    "names = ['Barrack Obama', 'Donald Trump', 'George W. Bush', 'Bill Clinton', 'J F Kennedy']\n",
    "print(max(names, key=len))  # find max by length\n",
    "print(min(names, key=len))  # find min by length"
   ]
  },
  {
   "cell_type": "code",
   "execution_count": 54,
   "metadata": {},
   "outputs": [
    {
     "name": "stdout",
     "output_type": "stream",
     "text": [
      "Strong password. Contains characters, digits and special characters.\n"
     ]
    }
   ],
   "source": [
    "password = input('Enter a password: ')\n",
    "if password.isalpha():\n",
    "    print('Weak password. Contains only characters.')\n",
    "elif password.isdigit():\n",
    "    print('Weak password. Contains only digits.')\n",
    "elif password.isalnum():\n",
    "    print('Medium password. Contains characters and digits.')\n",
    "else:\n",
    "    print('Strong password. Contains characters, digits and special characters.')"
   ]
  },
  {
   "cell_type": "code",
   "execution_count": null,
   "metadata": {},
   "outputs": [],
   "source": [
    "s = 'Hello Python World'\n",
    "sub = input('Enter a substring: ')\n",
    "if s.startswith(sub):\n",
    "    print(f'{s} starts with {sub}')\n",
    "else:\n",
    "    print(f'{s} does not start with {sub}')\n",
    "\n",
    "if s.endswith(sub):\n",
    "    print(f'{s} ends with {sub}')\n",
    "else:\n",
    "    print(f'{s} does not end with {sub}')\n",
    "\n",
    "if s.find(sub) == -1:\n",
    "    print(f'{s} doesn\\'t contains {sub}')\n",
    "else:\n",
    "    print(f'{s} contains {sub} at index {s.find(sub)}')"
   ]
  },
  {
   "cell_type": "code",
   "execution_count": 55,
   "metadata": {},
   "outputs": [
    {
     "name": "stdout",
     "output_type": "stream",
     "text": [
      "    Hello @#@#   Python <>?    World    \n",
      "Hello @#@#   Python <>?    World\n",
      "Hello    Python     World\n",
      "['Hello', 'Python', 'World']\n",
      "Hello Python World\n"
     ]
    }
   ],
   "source": [
    "# string processing\n",
    "s = '    Hello @#@#   Python <>?    World    '\n",
    "print(s)\n",
    "# Requirement: remove leading, trailing spaces, redundant spaces and special characters\n",
    "from string import punctuation\n",
    "s = s.strip() # remove leading and trailing spaces\n",
    "print(s)\n",
    "# remove punctuations\n",
    "for c in punctuation:\n",
    "    s = s.replace(c, '')\n",
    "print(s)\n",
    "# remove redundant spaces\n",
    "s = s.split()\n",
    "print(s)\n",
    "s = ' '.join(s)\n",
    "print(s)"
   ]
  }
 ],
 "metadata": {
  "kernelspec": {
   "display_name": "Python 3",
   "language": "python",
   "name": "python3"
  },
  "language_info": {
   "codemirror_mode": {
    "name": "ipython",
    "version": 3
   },
   "file_extension": ".py",
   "mimetype": "text/x-python",
   "name": "python",
   "nbconvert_exporter": "python",
   "pygments_lexer": "ipython3",
   "version": "3.9.12"
  }
 },
 "nbformat": 4,
 "nbformat_minor": 2
}
