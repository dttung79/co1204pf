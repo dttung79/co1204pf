{
 "cells": [
  {
   "cell_type": "code",
   "execution_count": null,
   "metadata": {},
   "outputs": [],
   "source": [
    "# Python collection data-type: list, string, tuple, set, dictionary\n",
    "a = [1, 2, 3, 1, 3, 4] # list of integers\n",
    "b = \"Hello World\" # string: collection of characters\n",
    "c = (1, 2, 3, 1, 3, 4) # tuple: immutable list\n",
    "a[0] = 100\n",
    "print(a)\n",
    "# c[0] = 100 # error because tuple is immutable\n",
    "# b[0] = 'h' # error because string is immutable\n",
    "s = set(a) # set: collection of unique elements\n",
    "print(s)\n",
    "# s[0] = 10 # error because set is not ordered"
   ]
  },
  {
   "cell_type": "code",
   "execution_count": 7,
   "metadata": {},
   "outputs": [
    {
     "name": "stdout",
     "output_type": "stream",
     "text": [
      "{'hello': 'xin chao', 'goodbye': 'tam biet', 'thank you': 'cam on', 'sorry': 'xin loi'}\n"
     ]
    }
   ],
   "source": [
    "# Dictionary is a collection of pairs (key, value)\n",
    "envi_dict = {}\n",
    "envi_dict['hello'] = 'xin chao'\n",
    "envi_dict['goodbye'] = 'tam biet'\n",
    "envi_dict['thank you'] = 'cam on'\n",
    "envi_dict['sorry'] = 'xin loi'\n",
    "print(envi_dict)"
   ]
  },
  {
   "cell_type": "code",
   "execution_count": 10,
   "metadata": {},
   "outputs": [
    {
     "name": "stdout",
     "output_type": "stream",
     "text": [
      "hi is not in the dictionary\n"
     ]
    }
   ],
   "source": [
    "en_word = input('Enter an English word: ')\n",
    "if en_word in envi_dict:\n",
    "    print(f'{en_word} in Vietnamese is {envi_dict[en_word]}')\n",
    "else:\n",
    "    print(f'{en_word} is not in the dictionary')"
   ]
  },
  {
   "cell_type": "code",
   "execution_count": 12,
   "metadata": {},
   "outputs": [
    {
     "name": "stdout",
     "output_type": "stream",
     "text": [
      "Added hi to the dictionary\n",
      "{'hello': 'xin chao', 'goodbye': 'tam biet', 'thank you': 'cam on', 'sorry': 'xin loi', 'hi': 'chao'}\n"
     ]
    }
   ],
   "source": [
    "en_word = input('Enter a new English world: ')\n",
    "vi_word = input('Enter a translation in Vietnamese: ')\n",
    "if en_word in envi_dict:\n",
    "    print(f'{en_word} is already in the dictionary')\n",
    "else:\n",
    "    envi_dict[en_word] = vi_word\n",
    "    print(f'Added {en_word} to the dictionary')\n",
    "    print(envi_dict)"
   ]
  },
  {
   "cell_type": "code",
   "execution_count": 13,
   "metadata": {},
   "outputs": [
    {
     "name": "stdout",
     "output_type": "stream",
     "text": [
      "Updated goodbye in the dictionary\n",
      "{'hello': 'xin chao', 'goodbye': 'cut', 'thank you': 'cam on', 'sorry': 'xin loi', 'hi': 'chao'}\n"
     ]
    }
   ],
   "source": [
    "en_word = input('Enter a current English word: ')\n",
    "vn_word = input('Enter a new Vietnamese translation: ')\n",
    "if en_word not in envi_dict:\n",
    "    print(f'{en_word} is not in the dictionary')\n",
    "else:\n",
    "    envi_dict[en_word] = vn_word\n",
    "    print(f'Updated {en_word} in the dictionary')\n",
    "    print(envi_dict)"
   ]
  },
  {
   "cell_type": "code",
   "execution_count": 15,
   "metadata": {},
   "outputs": [
    {
     "name": "stdout",
     "output_type": "stream",
     "text": [
      "hi is removed.\n",
      "{'hello': 'xin chao', 'goodbye': 'cut', 'thank you': 'cam on', 'sorry': 'xin loi'}\n"
     ]
    }
   ],
   "source": [
    "en_word = input('Enter a current English world to delete: ')\n",
    "if en_word not in envi_dict:\n",
    "    print(f'{en_word} is not in the dictionary')\n",
    "else:\n",
    "    envi_dict.pop(en_word)\n",
    "    print(f'{en_word} is removed.')\n",
    "    print(envi_dict)"
   ]
  }
 ],
 "metadata": {
  "kernelspec": {
   "display_name": "Python 3",
   "language": "python",
   "name": "python3"
  },
  "language_info": {
   "codemirror_mode": {
    "name": "ipython",
    "version": 3
   },
   "file_extension": ".py",
   "mimetype": "text/x-python",
   "name": "python",
   "nbconvert_exporter": "python",
   "pygments_lexer": "ipython3",
   "version": "3.9.12"
  }
 },
 "nbformat": 4,
 "nbformat_minor": 2
}
