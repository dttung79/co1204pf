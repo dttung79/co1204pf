{
 "cells": [
  {
   "cell_type": "code",
   "execution_count": null,
   "metadata": {},
   "outputs": [],
   "source": [
    "f = open('languages.txt', 'r')\n",
    "content = f.read() # read all content\n",
    "print(content)\n",
    "\n",
    "f.close()"
   ]
  },
  {
   "cell_type": "code",
   "execution_count": null,
   "metadata": {},
   "outputs": [],
   "source": [
    "f = open('languages.txt', 'r')\n",
    "lines = f.readlines() # read all lines into a list\n",
    "print(lines)\n",
    "for i in range(len(lines)):\n",
    "    print(f'{i+1}: {lines[i].strip()}')\n",
    "f.close()"
   ]
  },
  {
   "cell_type": "code",
   "execution_count": null,
   "metadata": {},
   "outputs": [],
   "source": [
    "f = open('languages.txt', 'r')\n",
    "line = f.readline() # read the 1st line\n",
    "\n",
    "while line != '':\n",
    "    print(line.strip())\n",
    "    line = f.readline() # read the next line\n",
    "f.close()"
   ]
  },
  {
   "cell_type": "code",
   "execution_count": 7,
   "metadata": {},
   "outputs": [
    {
     "name": "stdout",
     "output_type": "stream",
     "text": [
      "The Triboro Bridge and Tunnel Authority\n",
      "The Metropolitan Transit Authority\n",
      "The Port Authority of New York and New Jersey\n"
     ]
    }
   ],
   "source": [
    "# Ex1: read agencies.txt, find agcencies having 'Authority' in their names\n",
    "f = open('agencies.txt', 'r')\n",
    "lines = f.readlines()\n",
    "for line in lines:\n",
    "    if 'Authority' in line:\n",
    "        print(line.strip())\n",
    "\n",
    "f.close()"
   ]
  },
  {
   "cell_type": "code",
   "execution_count": null,
   "metadata": {},
   "outputs": [],
   "source": [
    "# Ex2: read authors.txt, find authors using 'gmail' then print\n",
    "# For example:\n",
    "# Paul Bakaus: paul.bakaus@gmail.com\n",
    "# Richard Worth: rdworth@gmail.com\n",
    "try:\n",
    "    f = open('authors.txt', 'r')\n",
    "    line = f.readline()\n",
    "\n",
    "    while line != '':\n",
    "        if 'gmail' in line:\n",
    "            a = line.split('<')\n",
    "            #print(a[0].strip())\n",
    "            #print(a[1][:-2])\n",
    "            print(f'{a[0].strip()}: {a[1][:-2]}')\n",
    "        line = f.readline()\n",
    "\n",
    "    f.close()\n",
    "except FileNotFoundError:\n",
    "    print('File authors.txt not found!')"
   ]
  }
 ],
 "metadata": {
  "kernelspec": {
   "display_name": "Python 3",
   "language": "python",
   "name": "python3"
  },
  "language_info": {
   "codemirror_mode": {
    "name": "ipython",
    "version": 3
   },
   "file_extension": ".py",
   "mimetype": "text/x-python",
   "name": "python",
   "nbconvert_exporter": "python",
   "pygments_lexer": "ipython3",
   "version": "3.9.12"
  }
 },
 "nbformat": 4,
 "nbformat_minor": 2
}
