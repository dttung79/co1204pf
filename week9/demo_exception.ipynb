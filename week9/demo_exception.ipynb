{
 "cells": [
  {
   "cell_type": "code",
   "execution_count": 10,
   "metadata": {},
   "outputs": [
    {
     "name": "stdout",
     "output_type": "stream",
     "text": [
      "Cannot divide by zero! Please enter b != 0\n"
     ]
    }
   ],
   "source": [
    "try:\n",
    "    a = int(input('Enter a: '))\n",
    "    b = int(input('Enter b: '))\n",
    "    c = a / b\n",
    "    print(f'{a} / {b} = {c}')\n",
    "except ValueError:\n",
    "    print('Please enter number!')\n",
    "except ZeroDivisionError:\n",
    "    print('Cannot divide by zero! Please enter b != 0')"
   ]
  },
  {
   "cell_type": "code",
   "execution_count": null,
   "metadata": {},
   "outputs": [],
   "source": [
    "try:\n",
    "    numbers = [9, 8, 0, 10, 3, 7, 4]\n",
    "    i = int(input('Enter i: '))\n",
    "    j = int(input('Enter j: '))\n",
    "\n",
    "    print(f'{numbers[i]} / {numbers[j]} = {numbers[i] / numbers[j]}')\n",
    "except ValueError:\n",
    "    print('Please enter number for i and j!')\n",
    "except IndexError:\n",
    "    print('Index out of range! Please enter i and j in range [0, 6]')\n",
    "except ZeroDivisionError:\n",
    "    print('Cannot divide by zero! Please enter j that a[j] != 0')"
   ]
  }
 ],
 "metadata": {
  "kernelspec": {
   "display_name": "Python 3",
   "language": "python",
   "name": "python3"
  },
  "language_info": {
   "codemirror_mode": {
    "name": "ipython",
    "version": 3
   },
   "file_extension": ".py",
   "mimetype": "text/x-python",
   "name": "python",
   "nbconvert_exporter": "python",
   "pygments_lexer": "ipython3",
   "version": "3.9.12"
  }
 },
 "nbformat": 4,
 "nbformat_minor": 2
}
