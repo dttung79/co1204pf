{
 "cells": [
  {
   "cell_type": "markdown",
   "metadata": {},
   "source": [
    "In the context of functions in programming:\n",
    "\n",
    "- A **parameter** is a variable listed inside the parentheses in the function definition. It's a placeholder for the value that it will receive when the function is called.\n",
    "\n",
    "- An **argument** is the actual value that is passed to the function when it is called.\n",
    "\n",
    "For example, consider the following Python function:\n",
    "\n",
    "```python\n",
    "def add_numbers(a, b):  # 'a' and 'b' are parameters\n",
    "    return a + b\n",
    "\n",
    "add_numbers(5, 10)  # 5 and 10 are arguments\n",
    "```\n",
    "\n",
    "In this example, `a` and `b` are parameters of the `add_numbers` function, while `5` and `10` are the arguments passed to the function when it is called."
   ]
  },
  {
   "cell_type": "code",
   "execution_count": 3,
   "metadata": {},
   "outputs": [
    {
     "name": "stdout",
     "output_type": "stream",
     "text": [
      "10\n",
      "20\n",
      "100\n",
      "200\n",
      "10\n",
      "200\n",
      "hello\n",
      "world\n"
     ]
    }
   ],
   "source": [
    "# define a function\n",
    "def my_funct(a, b): # a, b are parameters\n",
    "    print(a)\n",
    "    print(b)\n",
    "\n",
    "# call my_funct\n",
    "my_funct(10, 20) # 10, 20 are arguments\n",
    "x = 100\n",
    "y = 200\n",
    "my_funct(x, y) # x, y are arguments\n",
    "my_funct(10, y) # 10, y are arguments\n",
    "a = 'hello'\n",
    "b = 'world'\n",
    "my_funct(a, b) # a, b are arguments but not the same a, b in the function"
   ]
  },
  {
   "cell_type": "markdown",
   "metadata": {},
   "source": [
    "In Python, the scope of a variable is the part of the code where the variable is recognized. Variables are only accessible within the region they are created, which is known as their scope. There are two types of variable scope:\n",
    "\n",
    "1. **Local Scope**: A variable declared inside a function has a local scope and is only accessible within that function.\n",
    "\n",
    "2. **Global Scope**: A variable declared outside all functions has a global scope and is accessible throughout the program.\n",
    "\n",
    "In the provided code:\n",
    "\n",
    "```python\n",
    "# define a function\n",
    "def my_funct(a, b): # a, b are parameters\n",
    "    print(a)\n",
    "    print(b)\n",
    "```\n",
    "\n",
    "`a` and `b` are local variables. They are only accessible within the `my_funct` function. If you try to access them outside of this function, you'll get an error."
   ]
  },
  {
   "cell_type": "code",
   "execution_count": 7,
   "metadata": {},
   "outputs": [
    {
     "name": "stdout",
     "output_type": "stream",
     "text": [
      "10 20\n"
     ]
    },
    {
     "ename": "NameError",
     "evalue": "name 'o' is not defined",
     "output_type": "error",
     "traceback": [
      "\u001b[0;31m---------------------------------------------------------------------------\u001b[0m",
      "\u001b[0;31mNameError\u001b[0m                                 Traceback (most recent call last)",
      "\u001b[1;32m/Users/tungdt/Library/CloudStorage/GoogleDrive-dttung@gmail.com/My Drive/FPTU/Program 3+0/COMP1753 - Programming Foundation/CO1204/co1204pf/week7/demo_function2.ipynb Cell 4\u001b[0m line \u001b[0;36m<cell line: 7>\u001b[0;34m()\u001b[0m\n\u001b[1;32m      <a href='vscode-notebook-cell:/Users/tungdt/Library/CloudStorage/GoogleDrive-dttung%40gmail.com/My%20Drive/FPTU/Program%203%2B0/COMP1753%20-%20Programming%20Foundation/CO1204/co1204pf/week7/demo_function2.ipynb#X16sZmlsZQ%3D%3D?line=3'>4</a>\u001b[0m     \u001b[39mprint\u001b[39m(o, p)\n\u001b[1;32m      <a href='vscode-notebook-cell:/Users/tungdt/Library/CloudStorage/GoogleDrive-dttung%40gmail.com/My%20Drive/FPTU/Program%203%2B0/COMP1753%20-%20Programming%20Foundation/CO1204/co1204pf/week7/demo_function2.ipynb#X16sZmlsZQ%3D%3D?line=5'>6</a>\u001b[0m my_func()\n\u001b[0;32m----> <a href='vscode-notebook-cell:/Users/tungdt/Library/CloudStorage/GoogleDrive-dttung%40gmail.com/My%20Drive/FPTU/Program%203%2B0/COMP1753%20-%20Programming%20Foundation/CO1204/co1204pf/week7/demo_function2.ipynb#X16sZmlsZQ%3D%3D?line=6'>7</a>\u001b[0m \u001b[39mprint\u001b[39m(o, p)\n",
      "\u001b[0;31mNameError\u001b[0m: name 'o' is not defined"
     ]
    }
   ],
   "source": [
    "def my_func():\n",
    "    o = 10\n",
    "    p  = 20\n",
    "    print(o, p)\n",
    "\n",
    "my_func()\n",
    "print(o, p)"
   ]
  },
  {
   "cell_type": "code",
   "execution_count": 9,
   "metadata": {},
   "outputs": [
    {
     "name": "stdout",
     "output_type": "stream",
     "text": [
      "a = 20, b = 10\n",
      "a = 10, b = 20\n"
     ]
    }
   ],
   "source": [
    "# Example: swap two variables\n",
    "def swap(a, b):\n",
    "    t = a\n",
    "    a = b\n",
    "    b = t\n",
    "    print(f'a = {a}, b = {b}')\n",
    "\n",
    "a = 10\n",
    "b = 20\n",
    "swap(a, b)\n",
    "print(f'a = {a}, b = {b}')"
   ]
  },
  {
   "cell_type": "code",
   "execution_count": 12,
   "metadata": {},
   "outputs": [
    {
     "name": "stdout",
     "output_type": "stream",
     "text": [
      "a = 100, b = 20\n"
     ]
    }
   ],
   "source": [
    "# Example local variable vs global variable\n",
    "# local variable will be prefered than global variable\n",
    "def my_func():\n",
    "    a = 100\n",
    "    print(f'a = {a}, b = {b}')\n",
    "a = 10\n",
    "b = 20\n",
    "my_func()"
   ]
  },
  {
   "cell_type": "markdown",
   "metadata": {},
   "source": [
    "In Python, there are two types of parameters that can be used when calling a function: positional parameters and keyword parameters.\n",
    "\n",
    "1. **Positional Parameters**: These are parameters that need to be passed in the correct positional order during a function call. The order in which they are passed matters.\n",
    "\n",
    "```python\n",
    "def greet(name, greeting):\n",
    "    print(f\"{greeting}, {name}!\")\n",
    "\n",
    "greet(\"Alice\", \"Hello\")  # \"Hello, Alice!\"\n",
    "```\n",
    "\n",
    "In this example, \"Alice\" and \"Hello\" are positional arguments. \"Alice\" is assigned to the `name` parameter and \"Hello\" is assigned to the `greeting` parameter based on their positions.\n",
    "\n",
    "2. **Keyword Parameters**: These are parameters that are identified by the parameter name during a function call. The order in which they are passed does not matter.\n",
    "\n",
    "```python\n",
    "def greet(name, greeting):\n",
    "    print(f\"{greeting}, {name}!\")\n",
    "\n",
    "greet(greeting=\"Hello\", name=\"Alice\")  # \"Hello, Alice!\"\n",
    "```\n",
    "\n",
    "In this example, `greeting=\"Hello\"` and `name=\"Alice\"` are keyword arguments. Regardless of the order in which they are passed, \"Hello\" is assigned to the `greeting` parameter and \"Alice\" is assigned to the `name` parameter because they are explicitly identified by their parameter names."
   ]
  },
  {
   "cell_type": "code",
   "execution_count": 18,
   "metadata": {},
   "outputs": [
    {
     "name": "stdout",
     "output_type": "stream",
     "text": [
      "a = 10, b = 20, c = hello, d = world\n",
      "a = 10, b = 20, c = goodbye, d = world\n",
      "a = 10, b = 20, c = world, d = hello\n",
      "a = 10, b = 20, c = hello, d = world\n",
      "a = world, b = hello, c = 10, d = 20\n",
      "a = world, b = hello, c = 10, d = 20\n"
     ]
    }
   ],
   "source": [
    "def my_func(a, b, c='hello', d='world'):\n",
    "    print(f'a = {a}, b = {b}, c = {c}, d = {d}')\n",
    "\n",
    "my_func(10, 20)\n",
    "my_func(10, 20, 'goodbye')\n",
    "my_func(10, 20, 'world', 'hello')\n",
    "my_func(10, 20, d='world', c='hello')\n",
    "my_func(c=10, d=20, a='world', b='hello')\n",
    "my_func('world', 'hello', c=10, d=20)\n"
   ]
  }
 ],
 "metadata": {
  "kernelspec": {
   "display_name": "Python 3",
   "language": "python",
   "name": "python3"
  },
  "language_info": {
   "codemirror_mode": {
    "name": "ipython",
    "version": 3
   },
   "file_extension": ".py",
   "mimetype": "text/x-python",
   "name": "python",
   "nbconvert_exporter": "python",
   "pygments_lexer": "ipython3",
   "version": "3.9.12"
  }
 },
 "nbformat": 4,
 "nbformat_minor": 2
}
