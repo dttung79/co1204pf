{
 "cells": [
  {
   "cell_type": "code",
   "execution_count": 1,
   "metadata": {},
   "outputs": [
    {
     "name": "stdout",
     "output_type": "stream",
     "text": [
      "[]\n",
      "[1]\n",
      "['hello', 'python', 'world']\n"
     ]
    }
   ],
   "source": [
    "# declare a list\n",
    "# empty list\n",
    "a = []\n",
    "# list with one element\n",
    "b = [1]\n",
    "# list with 3 elements\n",
    "c = ['hello', 'python', 'world']\n",
    "print(a, b, c, sep='\\n')"
   ]
  },
  {
   "cell_type": "code",
   "execution_count": 2,
   "metadata": {},
   "outputs": [
    {
     "name": "stdout",
     "output_type": "stream",
     "text": [
      "[10, 88, 21, 81, 39, 72, 28, 69, 74, 78]\n"
     ]
    }
   ],
   "source": [
    "import random as rd\n",
    "numbers = rd.sample(range(10, 100), 10) # generate 10 random numbers from 10 to 99\n",
    "print(numbers)"
   ]
  },
  {
   "cell_type": "code",
   "execution_count": 4,
   "metadata": {},
   "outputs": [
    {
     "name": "stdout",
     "output_type": "stream",
     "text": [
      "88\n",
      "78\n"
     ]
    }
   ],
   "source": [
    "# access elements in a list (use zero-based index)\n",
    "print(numbers[1])\n",
    "print(numbers[9])"
   ]
  },
  {
   "cell_type": "code",
   "execution_count": null,
   "metadata": {},
   "outputs": [],
   "source": [
    "# list of mixed types\n",
    "a = [1, 2.5, 'hello', True, [1, 2, 3]]\n",
    "print(len(a))"
   ]
  },
  {
   "cell_type": "code",
   "execution_count": null,
   "metadata": {},
   "outputs": [],
   "source": [
    "# list of None\n",
    "a = [None] * 10\n",
    "print(a)\n",
    "a[0] = 'hello'\n",
    "a[1] = 10\n",
    "a[2] = input('Enter something: ')\n",
    "print(a)"
   ]
  },
  {
   "cell_type": "code",
   "execution_count": 12,
   "metadata": {},
   "outputs": [
    {
     "name": "stdout",
     "output_type": "stream",
     "text": [
      "[1, 2, 3, 'hello', 'python']\n",
      "[1, 2, 3, 1, 2, 3, 1, 2, 3]\n",
      "[10, 88, 21, 81, 39, 72, 28, 69, 74, 78]\n",
      "90 is not in the list\n"
     ]
    }
   ],
   "source": [
    "# List operators: +, *, in, not in\n",
    "a = [1, 2, 3]\n",
    "b = ['hello', 'python']\n",
    "c = a + b\n",
    "print(c)\n",
    "d = a * 3\n",
    "print(d)\n",
    "print(numbers)\n",
    "n = int(input('Enter a number: '))\n",
    "if n in numbers:\n",
    "    print(n, 'is in the list')\n",
    "else:\n",
    "    print(n, 'is not in the list')"
   ]
  },
  {
   "cell_type": "code",
   "execution_count": 16,
   "metadata": {},
   "outputs": [
    {
     "name": "stdout",
     "output_type": "stream",
     "text": [
      "[10, 88, 21, 81, 39, 72, 28, 69, 74, 78]\n",
      "10 88 21 81 39 72 28 69 74 78 \n",
      "10 88 21 81 39 72 28 69 74 78 "
     ]
    }
   ],
   "source": [
    "# Popular basic algorithms with list: traversal, search, max / min, sum, count\n",
    "# traversal using for loop\n",
    "print(numbers)\n",
    "for n in numbers:       # loop through each element in the list\n",
    "    print(n, end=' ')\n",
    "print()\n",
    "\n",
    "for i in range(len(numbers)): # loop through each index of the list, then access the element\n",
    "    print(numbers[i], end=' ')"
   ]
  },
  {
   "cell_type": "code",
   "execution_count": 17,
   "metadata": {},
   "outputs": [
    {
     "name": "stdout",
     "output_type": "stream",
     "text": [
      "10 88 72 28 74 78 "
     ]
    }
   ],
   "source": [
    "# print only even numbers in the list\n",
    "for n in numbers:\n",
    "    if n % 2 == 0:\n",
    "        print(n, end=' ')"
   ]
  },
  {
   "cell_type": "code",
   "execution_count": 18,
   "metadata": {},
   "outputs": [
    {
     "name": "stdout",
     "output_type": "stream",
     "text": [
      "21 81 39 69 "
     ]
    }
   ],
   "source": [
    "# Ex: print only odd numbers in the list (using for loop with index)\n",
    "for i in range(len(numbers)):\n",
    "    if numbers[i] % 2 != 0:\n",
    "        print(numbers[i], end=' ')"
   ]
  },
  {
   "cell_type": "code",
   "execution_count": 23,
   "metadata": {},
   "outputs": [
    {
     "name": "stdout",
     "output_type": "stream",
     "text": [
      "pen: 5000 VND\n",
      "pencil: 7000 VND\n",
      "book: 25000 VND\n",
      "ruler: 8000 VND\n",
      "eraser: 3000 VND\n",
      "sharpener: 10000 VND\n"
     ]
    }
   ],
   "source": [
    "products = ['pen', 'pencil', 'book', 'ruler', 'eraser', 'sharpener']\n",
    "prices = [5000, 7000, 25000, 8000, 3000, 10000]\n",
    "# Ex: print all products and their prices\n",
    "# For example: \n",
    "# pen: 5000\n",
    "# pencil: 7000\n",
    "# ...\n",
    "n = len(products)\n",
    "for i in range(n):\n",
    "    print(f'{products[i]}: {prices[i]} VND')"
   ]
  },
  {
   "cell_type": "code",
   "execution_count": 24,
   "metadata": {},
   "outputs": [
    {
     "name": "stdout",
     "output_type": "stream",
     "text": [
      "pencil: 7000 VND\n",
      "book: 25000 VND\n",
      "ruler: 8000 VND\n",
      "sharpener: 10000 VND\n"
     ]
    }
   ],
   "source": [
    "# Ex: print only products with price > 5000\n",
    "for i in range(n):\n",
    "    if prices[i] > 5000:\n",
    "        print(f'{products[i]}: {prices[i]} VND')"
   ]
  },
  {
   "cell_type": "code",
   "execution_count": null,
   "metadata": {},
   "outputs": [],
   "source": [
    "found = False # flag variable\n",
    "print(numbers)\n",
    "n = int(input('Enter n: '))\n",
    "for i in range(len(numbers)):\n",
    "    if numbers[i] == n:\n",
    "        found = True # turn on the flag\n",
    "        break\n",
    "\n",
    "if found: # short for found == True | if not found ~ if found == False\n",
    "    print(f'{n} is in the list')\n",
    "else:\n",
    "    print(f'{n} is not in the list')"
   ]
  },
  {
   "cell_type": "code",
   "execution_count": 28,
   "metadata": {},
   "outputs": [
    {
     "name": "stdout",
     "output_type": "stream",
     "text": [
      "81 is in the list at position 3\n"
     ]
    }
   ],
   "source": [
    "found_pos = -1 # -1 means not found\n",
    "n = int(input('Enter n: '))\n",
    "for i in range(len(numbers)):\n",
    "    if numbers[i] == n: # found n\n",
    "        found_pos = i   # update the found position\n",
    "        break\n",
    "\n",
    "if found_pos == -1:\n",
    "    print(f'{n} is not in the list')\n",
    "else:\n",
    "    print(f'{n} is in the list at position {found_pos}')"
   ]
  },
  {
   "cell_type": "code",
   "execution_count": 29,
   "metadata": {},
   "outputs": [
    {
     "name": "stdout",
     "output_type": "stream",
     "text": [
      "['pen', 'pencil', 'book', 'ruler', 'eraser', 'sharpener']\n",
      "[5000, 7000, 25000, 8000, 3000, 10000]\n"
     ]
    }
   ],
   "source": [
    "print(products)\n",
    "print(prices)\n",
    "# Ex: Enter the product, look up its price\n",
    "found_pos = -1\n",
    "product = input('Enter product: ')\n",
    "\n",
    "for i in range(len(products)):\n",
    "    if products[i] == product:\n",
    "        found_pos = i\n",
    "        break\n",
    "\n",
    "if found_pos == -1:\n",
    "    print(f'{product} is not in the list')\n",
    "else:\n",
    "    print(f'Price of {product} is {prices[found_pos]} VND')"
   ]
  },
  {
   "cell_type": "code",
   "execution_count": 32,
   "metadata": {},
   "outputs": [
    {
     "name": "stdout",
     "output_type": "stream",
     "text": [
      "Student GCH12323 is not in the list\n"
     ]
    }
   ],
   "source": [
    "ids = ['GCH1600', 'GCH1601', 'GCH1602', 'GCH1603', 'GCH1604']\n",
    "names = ['John', 'Peter', 'Mary', 'Jane', 'Tom']\n",
    "grades = [8.5, 7.5, 9.0, 8.0, 7.0]\n",
    "\n",
    "# Ex: Enter the student id, look up his/her name and grade\n",
    "found_pos = -1\n",
    "id = input('Enter student id: ')\n",
    "for i in range(len(ids)):\n",
    "    if ids[i] == id:\n",
    "        found_pos = i\n",
    "        break\n",
    "if found_pos == -1:\n",
    "    print(f'Student {id} is not in the list')\n",
    "else:\n",
    "    print(f'{ids[found_pos]}: {names[found_pos]} - {grades[found_pos]}')"
   ]
  },
  {
   "cell_type": "code",
   "execution_count": 34,
   "metadata": {},
   "outputs": [
    {
     "name": "stdout",
     "output_type": "stream",
     "text": [
      "[10, 88, 21, 81, 39, 72, 28, 69, 74, 78]\n",
      "88\n",
      "10\n"
     ]
    }
   ],
   "source": [
    "print(numbers)\n",
    "print(max(numbers))\n",
    "print(min(numbers))"
   ]
  },
  {
   "cell_type": "code",
   "execution_count": null,
   "metadata": {},
   "outputs": [],
   "source": [
    "m = numbers[0] # initialize max to the 1st item in the list\n",
    "for i in range(1, len(numbers)):\n",
    "    if numbers[i] > m: # find a bigger number\n",
    "        m = numbers[i] # update max"
   ]
  },
  {
   "cell_type": "code",
   "execution_count": 35,
   "metadata": {},
   "outputs": [
    {
     "name": "stdout",
     "output_type": "stream",
     "text": [
      "[10, 88, 21, 81, 39, 72, 28, 69, 74, 78]\n",
      "Max = 88 at position 1\n"
     ]
    }
   ],
   "source": [
    "m = numbers[0]\n",
    "max_pos = 0\n",
    "for i in range(1, len(numbers)):\n",
    "    if numbers[i] > m:\n",
    "        m = numbers[i]\n",
    "        max_pos = i\n",
    "\n",
    "print(numbers)\n",
    "print(f'Max = {m} at position {max_pos}')"
   ]
  },
  {
   "cell_type": "code",
   "execution_count": 37,
   "metadata": {},
   "outputs": [
    {
     "name": "stdout",
     "output_type": "stream",
     "text": [
      "['pen', 'pencil', 'book', 'ruler', 'eraser', 'sharpener']\n",
      "[5000, 7000, 25000, 8000, 3000, 10000]\n",
      "The most expensive product is book: 25000 VND\n"
     ]
    }
   ],
   "source": [
    "print(products)\n",
    "print(prices)\n",
    "# Ex: find the most expensive product\n",
    "m = prices[0]\n",
    "max_pos = 0\n",
    "\n",
    "for i in range(1, len(prices)):\n",
    "    if prices[i] > m:\n",
    "        m = prices[i]\n",
    "        max_pos = i\n",
    "print(f'The most expensive product is {products[max_pos]}: {prices[max_pos]} VND')"
   ]
  },
  {
   "cell_type": "code",
   "execution_count": null,
   "metadata": {},
   "outputs": [],
   "source": [
    "print(ids)\n",
    "print(names)\n",
    "print(grades)\n",
    "# Find id & name of the student with the lowest grade\n",
    "min_grade = grades[0]\n",
    "min_pos = 0\n",
    "for i in range(len(ids)):\n",
    "    if grades[i] < min_grade:\n",
    "        min_grade = grades[i]\n",
    "        min_pos = i\n",
    "print(f'The student with the lowest grade is')\n",
    "print(f'{ids[min_pos]} - {names[min_pos]} - {grades[min_pos]}')"
   ]
  },
  {
   "cell_type": "code",
   "execution_count": null,
   "metadata": {},
   "outputs": [],
   "source": [
    "print(numbers)\n",
    "s = 0\n",
    "for n in numbers:\n",
    "    s += n\n",
    "print(f'Sum = {s}')"
   ]
  },
  {
   "cell_type": "code",
   "execution_count": null,
   "metadata": {},
   "outputs": [],
   "source": [
    "# Ex: find the average of the prices\n",
    "print(prices)\n",
    "sum_prices = 0\n",
    "for p in prices:\n",
    "    sum_prices += p\n",
    "avg_price = sum_prices / len(prices)\n",
    "print(f'Average price = {avg_price:.2f}')"
   ]
  },
  {
   "cell_type": "code",
   "execution_count": null,
   "metadata": {},
   "outputs": [],
   "source": [
    "# Count how many even numbers in the list\n",
    "print(numbers)\n",
    "count = 0\n",
    "for n in numbers:\n",
    "    if n % 2 == 0:\n",
    "        count += 1\n",
    "print(f'Number of even numbers = {count}')"
   ]
  },
  {
   "cell_type": "code",
   "execution_count": 47,
   "metadata": {},
   "outputs": [
    {
     "name": "stdout",
     "output_type": "stream",
     "text": [
      "There are 4 products that has price > 5000\n"
     ]
    }
   ],
   "source": [
    "# Ex: count how many products that has price > 5000\n",
    "count = 0\n",
    "for p in prices:\n",
    "    if p > 5000:\n",
    "        count += 1\n",
    "print(f'There are {count} products that has price > 5000')"
   ]
  },
  {
   "cell_type": "code",
   "execution_count": 48,
   "metadata": {},
   "outputs": [
    {
     "name": "stdout",
     "output_type": "stream",
     "text": [
      "There are 2 students that has grade above average grade 8.00\n"
     ]
    }
   ],
   "source": [
    "# Count how many student that has grade above average grade\n",
    "sum_grades = 0\n",
    "for g in grades:\n",
    "    sum_grades += g\n",
    "avg_grade = sum_grades / len(grades)\n",
    "\n",
    "count = 0\n",
    "for g in grades:\n",
    "    if g > avg_grade:\n",
    "        count += 1\n",
    "print(f'There are {count} students that has grade above average grade {avg_grade:.2f}')"
   ]
  }
 ],
 "metadata": {
  "kernelspec": {
   "display_name": "Python 3",
   "language": "python",
   "name": "python3"
  },
  "language_info": {
   "codemirror_mode": {
    "name": "ipython",
    "version": 3
   },
   "file_extension": ".py",
   "mimetype": "text/x-python",
   "name": "python",
   "nbconvert_exporter": "python",
   "pygments_lexer": "ipython3",
   "version": "3.9.12"
  }
 },
 "nbformat": 4,
 "nbformat_minor": 2
}
